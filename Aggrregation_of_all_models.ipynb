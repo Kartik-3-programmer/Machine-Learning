{
 "cells": [
  {
   "cell_type": "code",
   "execution_count": null,
   "metadata": {},
   "outputs": [],
   "source": [
    "import pandas as pd\n",
    "import numpy as np"
   ]
  },
  {
   "cell_type": "code",
   "execution_count": null,
   "metadata": {},
   "outputs": [],
   "source": [
    "dataframe_project = pd.read_csv(r'D:\\Kartik Projects\\Semester 5\\Machine Learning\\2023-09-12\\Custom_CNN_Features.csv')\n",
    "dataframe_project"
   ]
  },
  {
   "cell_type": "code",
   "execution_count": null,
   "metadata": {},
   "outputs": [],
   "source": [
    "# Project data classification rules\n",
    "from sklearn.model_selection import train_test_split\n",
    "from sklearn.neighbors import KNeighborsClassifier\n",
    "input_project = dataframe_project.loc[:, dataframe_project.columns[2:]]\n",
    "output_project = dataframe_project.loc[:, dataframe_project.columns[1]]\n",
    "\n",
    "input_train, input_test, output_train, output_test = train_test_split(input_project, output_project, test_size=0.3, random_state=42)\n",
    "\n",
    "knn_model = KNeighborsClassifier()\n",
    "\n",
    "predicted_knn_train = knn_model.predict()"
   ]
  }
 ],
 "metadata": {
  "language_info": {
   "name": "python"
  }
 },
 "nbformat": 4,
 "nbformat_minor": 2
}
