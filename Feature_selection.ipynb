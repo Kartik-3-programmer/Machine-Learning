{
 "cells": [
  {
   "cell_type": "code",
   "execution_count": null,
   "metadata": {},
   "outputs": [],
   "source": [
    "import pandas as pd\n",
    "import numpy as np\n",
    "import time as t\n",
    "from sklearn.model_selection import train_test_split\n",
    "from sklearn.metrics import classification_report\n",
    "from sklearn.metrics import accuracy_score\n",
    "from sklearn.metrics import precision_score\n",
    "from sklearn.metrics import recall_score\n",
    "from sklearn.metrics import f1_score\n",
    "from sklearn.model_selection import GridSearchCV\n",
    "from sklearn.model_selection import cross_val_score"
   ]
  },
  {
   "cell_type": "code",
   "execution_count": null,
   "metadata": {},
   "outputs": [],
   "source": [
    "dataframe_project = pd.read_csv(r'D:\\College Education\\Semester 5\\19CSE305 Machine Learning\\Project\\Coding\\patches_gabor_15816_1.csv')\n",
    "dataframe_project"
   ]
  },
  {
   "cell_type": "code",
   "execution_count": null,
   "metadata": {},
   "outputs": [],
   "source": [
    "from sklearn import preprocessing as prep\n",
    "label_encoder = prep.LabelEncoder()\n",
    "dataframe_project['class'] = label_encoder.fit_transform(dataframe_project['class'])\n",
    "dataframe_project"
   ]
  },
  {
   "cell_type": "code",
   "execution_count": null,
   "metadata": {},
   "outputs": [],
   "source": [
    "normal_scaler = prep.StandardScaler()\n",
    "scaled_columns = dataframe_project.columns[1:25]\n",
    "scaled_df = dataframe_project\n",
    "for col in scaled_columns:\n",
    "    scaled_df[col] = normal_scaler.fit_transform(scaled_df[col].values.reshape(-1, 1))\n",
    "scaled_df"
   ]
  },
  {
   "cell_type": "code",
   "execution_count": null,
   "metadata": {},
   "outputs": [],
   "source": [
    "dataframe_scaled_input = scaled_df.iloc[:, 1:25]\n",
    "dataframe_scaled_output = scaled_df.iloc[:, 25]\n",
    "scaled_input_train, scaled_input_test, scaled_output_train, scaled_output_test = train_test_split(dataframe_scaled_input, dataframe_scaled_output, test_size=0.3, random_state=42)"
   ]
  }
 ],
 "metadata": {
  "language_info": {
   "name": "python"
  }
 },
 "nbformat": 4,
 "nbformat_minor": 2
}
