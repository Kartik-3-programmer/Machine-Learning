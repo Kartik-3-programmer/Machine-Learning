{
 "cells": [
  {
   "cell_type": "code",
   "execution_count": null,
   "metadata": {},
   "outputs": [],
   "source": [
    "# Question A1:\n",
    "# Develop a perceptron of a particular data\n",
    "\n",
    "data_gates = [\n",
    "    (1, 0, 0),\n",
    "    (1, 0, 1),\n",
    "    (1, 1, 0),\n",
    "    (1, 1, 1)\n",
    "    ]"
   ]
  },
  {
   "cell_type": "code",
   "execution_count": null,
   "metadata": {},
   "outputs": [],
   "source": []
  }
 ],
 "metadata": {
  "language_info": {
   "name": "python"
  },
  "orig_nbformat": 4
 },
 "nbformat": 4,
 "nbformat_minor": 2
}
