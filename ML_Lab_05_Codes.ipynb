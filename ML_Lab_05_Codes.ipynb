{
 "cells": [
  {
   "cell_type": "code",
   "execution_count": null,
   "metadata": {},
   "outputs": [],
   "source": [
    "# Question A1:\n",
    "# Develop a perceptron of a particular data\n",
    "\n",
    "# Data for logic gates\n",
    "data_gates = [\n",
    "    (1, 0, 0),\n",
    "    (1, 0, 1),\n",
    "    (1, 1, 0),\n",
    "    (1, 1, 1)\n",
    "    ]\n",
    "\n",
    "W0 = 10\n",
    "W1 = 0.2\n",
    "W2 = -0.75\n",
    "learning_rate = 0.05"
   ]
  },
  {
   "cell_type": "code",
   "execution_count": null,
   "metadata": {},
   "outputs": [],
   "source": [
    "# Creating an activation function\n",
    "def activation_function(number):\n",
    "    if number >= 0:\n",
    "        return 1\n",
    "    else:\n",
    "        return 0\n"
   ]
  },
  {
   "cell_type": "code",
   "execution_count": null,
   "metadata": {},
   "outputs": [],
   "source": [
    "# Applying data on the and gate\n",
    "max_iterations = 1000\n",
    "target_output = [0, 0, 0, 1]\n",
    "for _ in range(max_iterations):\n",
    "    error_count = 0\n",
    "\n",
    "    for i in range(len(data_gates)):\n",
    "        fixed, data_a, data_b = data_gates[i]\n",
    "        perceptor_equation = fixed * W0 + data_a * W1 + data_b * W2\n",
    "        actual_output = activation_function(perceptor_equation)\n",
    "        error = target_output[i] - actual_output\n",
    "\n",
    "        if error != 0:\n",
    "            W0 += "
   ]
  }
 ],
 "metadata": {
  "language_info": {
   "name": "python"
  },
  "orig_nbformat": 4
 },
 "nbformat": 4,
 "nbformat_minor": 2
}
