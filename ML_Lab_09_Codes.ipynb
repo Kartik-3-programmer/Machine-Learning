{
 "cells": [
  {
   "cell_type": "code",
   "execution_count": null,
   "metadata": {},
   "outputs": [],
   "source": [
    "import pandas as pd\n",
    "import numpy as np"
   ]
  },
  {
   "cell_type": "code",
   "execution_count": null,
   "metadata": {},
   "outputs": [],
   "source": [
    "dataframe_project = pd.read_csv(r'C:\\Users\\LENOVO\\Documents\\GitHub\\Machine-Learning\\Custom_CNN_Features.csv')\n",
    "dataframe_project"
   ]
  },
  {
   "cell_type": "code",
   "execution_count": null,
   "metadata": {},
   "outputs": [],
   "source": [
    "# Question A1:\n",
    "# Perform the k-means clustering on the data\n",
    "from sklearn.cluster import KMeans\n",
    "input_data = dataframe_project.loc[:, dataframe_project[2:]]\n",
    "cluster_model = KMeans(n_clusters=3)\n",
    "cluster_model.predict(input_data)"
   ]
  }
 ],
 "metadata": {
  "language_info": {
   "name": "python"
  }
 },
 "nbformat": 4,
 "nbformat_minor": 2
}
